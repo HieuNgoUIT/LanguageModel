{
 "cells": [
  {
   "cell_type": "code",
   "execution_count": 41,
   "metadata": {},
   "outputs": [],
   "source": [
    "import numpy as np\n",
    "import pandas as pd\n",
    "from keras.utils import to_categorical\n",
    "from keras.preprocessing.sequence import pad_sequences\n",
    "from keras.models import Sequential\n",
    "from keras.layers import LSTM, Dense, GRU, Embedding, Flatten\n",
    "from keras.callbacks import EarlyStopping, ModelCheckpoint\n",
    "import re"
   ]
  },
  {
   "cell_type": "code",
   "execution_count": 42,
   "metadata": {},
   "outputs": [],
   "source": [
    "def tokenize(text):\n",
    "    # obtains tokens with a least 1 alphabet\n",
    "    pattern = re.compile(r'[A-Za-z]+[\\w^\\']*|[\\w^\\']*[A-Za-z]+[\\w^\\']*')\n",
    "    return pattern.findall(text.lower())\n",
    "def mapping(tokens):\n",
    "    word_to_id = dict()\n",
    "    id_to_word = dict()\n",
    "    for i,word in enumerate(set(tokens)):\n",
    "        word_to_id[word] = i\n",
    "        id_to_word[i] = word\n",
    "    return word_to_id, id_to_word"
   ]
  },
  {
   "cell_type": "code",
   "execution_count": 48,
   "metadata": {},
   "outputs": [
    {
     "name": "stdout",
     "output_type": "stream",
     "text": [
      "Loading data from file .........\n"
     ]
    }
   ],
   "source": [
    "import os\n",
    "entries = os.listdir(\"/media/hieu/CA48F77D48F7669B/TextCorrection/Character-basedTextCorrection/corpus.viwiki/mysmalltest\")\n",
    "#print(entries)\n",
    "data = \"\"\n",
    "for entry in entries:\n",
    "    path = \"/media/hieu/CA48F77D48F7669B/TextCorrection/Character-basedTextCorrection/corpus.viwiki/mysmalltest/\" + entry\n",
    "    with open(path) as f:\n",
    "        currentdata = f.read()\n",
    "    data = data + currentdata\n",
    "print(\"Loading data from file .........\")"
   ]
  },
  {
   "cell_type": "code",
   "execution_count": 52,
   "metadata": {},
   "outputs": [
    {
     "name": "stdout",
     "output_type": "stream",
     "text": [
      "token length 62487\n",
      "vocab length 4880\n"
     ]
    }
   ],
   "source": [
    "# doc = \"\"\"\n",
    "# Mới đây, VFF và VPF dự kiến tổ chức cuộc họp vào ngày 31/3 với đại diện các CLB để thống nhất phương án tổ chức V.League ngay sau khi dịch bệnh lắng xuống. Họ đảm bảo chỉ tổ chức giải khi Chính phủ cho phép, trong điều kiện an toàn và trước mắt vẫn thi đấu ở trên sân không khán giả cho đến khi dịch bệnh hết hẳn. \n",
    "\n",
    "# Một động thái được cho là bình thường nhưng bầu Đức lại thể hiện sự tức giận. Ông tiếp tục đưa ra tuyên bố \"cấm HAGL tham gia bất kỳ hoạt động thể thao nào trong giai đoạn này\", thậm chí, không tham gia họp kể cả trực tiếp hay trực tuyến của VFF và VPF\n",
    "# \"\"\"\n",
    "tokenszero = [\"\"]\n",
    "tokens = tokenize(data)\n",
    "tokens = tokenszero + tokens\n",
    "vocab = set(tokens)\n",
    "print(\"token length\",len(tokens))\n",
    "print(\"vocab length\",len(vocab))\n",
    "#print(tokens)"
   ]
  },
  {
   "cell_type": "code",
   "execution_count": 53,
   "metadata": {},
   "outputs": [],
   "source": [
    "word_to_id, id_to_word = mapping(tokens)\n",
    "#print(word_to_id)\n",
    "#print(id_to_word)"
   ]
  },
  {
   "cell_type": "code",
   "execution_count": 54,
   "metadata": {},
   "outputs": [],
   "source": [
    "def generate_training_data(sentence, word_to_id, window_size):\n",
    "    L = len(sentence)\n",
    "    X, Y = [], []\n",
    "    tempX, tempY = [], []\n",
    "    for i in range(L):\n",
    "        index_before_target = list(range(max(0, i - window_size), i))           \n",
    "        index_after_target = list(range(i + 1, min(i + window_size + 1,L)))           \n",
    "        index_before_after_target = index_before_target + index_after_target\n",
    "        #print(index_before_after_target)                     \n",
    "        for j in index_before_after_target:\n",
    "            tempX.append(word_to_id[sentence[j]])\n",
    "        #print(tempX)\n",
    "        filling_missing_left = len(index_before_target)\n",
    "        filling_missing_right = len(index_after_target)\n",
    "        while(filling_missing_left < 3):\n",
    "            tempX.insert(0,0)\n",
    "            filling_missing_left +=1\n",
    "        while(filling_missing_right < 3):\n",
    "            tempX.append(0)\n",
    "            filling_missing_right +=1\n",
    "        X.append(tempX)\n",
    "        Y.append(word_to_id[sentence[i]])\n",
    "        tempX = []\n",
    "    return X,Y"
   ]
  },
  {
   "cell_type": "code",
   "execution_count": 58,
   "metadata": {},
   "outputs": [
    {
     "name": "stdout",
     "output_type": "stream",
     "text": [
      "62487\n",
      "62487\n"
     ]
    }
   ],
   "source": [
    "X,Y = generate_training_data(tokens, word_to_id, 3)\n",
    "print(len(X))\n",
    "print(len(Y))\n",
    "#print(X[:10])\n",
    "#print(type(X))\n",
    "#print(\"------------------------------------------------------\")\n",
    "#print(Y[:10])\n",
    "#print(Y.shape)"
   ]
  },
  {
   "cell_type": "code",
   "execution_count": 59,
   "metadata": {},
   "outputs": [
    {
     "name": "stdout",
     "output_type": "stream",
     "text": [
      "(62487, 6)\n"
     ]
    }
   ],
   "source": [
    "MAX_LENGTH = 6\n",
    "\n",
    "X = pad_sequences(X, maxlen=MAX_LENGTH, padding='post')\n",
    "print(X.shape)"
   ]
  },
  {
   "cell_type": "code",
   "execution_count": 60,
   "metadata": {},
   "outputs": [
    {
     "name": "stdout",
     "output_type": "stream",
     "text": [
      "(62487, 4880)\n"
     ]
    }
   ],
   "source": [
    "vocab_size = len(vocab)\n",
    "Y = to_categorical(Y, num_classes=vocab_size)\n",
    "print(Y.shape)"
   ]
  },
  {
   "cell_type": "code",
   "execution_count": 61,
   "metadata": {},
   "outputs": [
    {
     "name": "stdout",
     "output_type": "stream",
     "text": [
      "Model: \"sequential_2\"\n",
      "_________________________________________________________________\n",
      "Layer (type)                 Output Shape              Param #   \n",
      "=================================================================\n",
      "embedding_2 (Embedding)      (None, 6, 100)            488000    \n",
      "_________________________________________________________________\n",
      "gru_2 (GRU)                  (None, 150)               112950    \n",
      "_________________________________________________________________\n",
      "dense_2 (Dense)              (None, 4880)              736880    \n",
      "=================================================================\n",
      "Total params: 1,337,830\n",
      "Trainable params: 1,337,830\n",
      "Non-trainable params: 0\n",
      "_________________________________________________________________\n",
      "None\n"
     ]
    }
   ],
   "source": [
    "model = Sequential()\n",
    "model.add(Embedding(vocab_size, 100, input_length=6))\n",
    "model.add(GRU(150, recurrent_dropout=0.1, dropout=0.1))\n",
    "model.add(Dense(vocab_size, activation='softmax'))\n",
    "model.compile(loss='categorical_crossentropy', metrics=['acc'], optimizer='adam')\n",
    "print(model.summary())"
   ]
  },
  {
   "cell_type": "code",
   "execution_count": 62,
   "metadata": {
    "scrolled": false
   },
   "outputs": [
    {
     "name": "stdout",
     "output_type": "stream",
     "text": [
      "Epoch 1/100\n",
      " - 24s - loss: 6.9450 - acc: 0.0222\n",
      "Epoch 2/100\n",
      " - 23s - loss: 6.4883 - acc: 0.0370\n",
      "Epoch 3/100\n",
      " - 23s - loss: 5.8418 - acc: 0.0870\n",
      "Epoch 4/100\n",
      " - 23s - loss: 4.9657 - acc: 0.1849\n",
      "Epoch 5/100\n",
      " - 23s - loss: 4.2674 - acc: 0.2654\n",
      "Epoch 6/100\n",
      " - 23s - loss: 3.7750 - acc: 0.3193\n",
      "Epoch 7/100\n",
      " - 24s - loss: 3.3900 - acc: 0.3670\n",
      "Epoch 8/100\n",
      " - 28s - loss: 3.0745 - acc: 0.4080\n",
      "Epoch 9/100\n",
      " - 28s - loss: 2.8130 - acc: 0.4447\n",
      "Epoch 10/100\n",
      " - 26s - loss: 2.5928 - acc: 0.4774\n",
      "Epoch 11/100\n",
      " - 25s - loss: 2.4041 - acc: 0.5065\n",
      "Epoch 12/100\n",
      " - 25s - loss: 2.2416 - acc: 0.5293\n",
      "Epoch 13/100\n",
      " - 26s - loss: 2.1020 - acc: 0.5545\n",
      "Epoch 14/100\n",
      " - 27s - loss: 1.9861 - acc: 0.5702\n",
      "Epoch 15/100\n",
      " - 25s - loss: 1.8741 - acc: 0.5895\n",
      "Epoch 16/100\n",
      " - 29s - loss: 1.7877 - acc: 0.6027\n",
      "Epoch 17/100\n",
      " - 30s - loss: 1.7035 - acc: 0.6170\n",
      "Epoch 18/100\n",
      " - 31s - loss: 1.6304 - acc: 0.6303\n",
      "Epoch 19/100\n",
      " - 30s - loss: 1.5619 - acc: 0.6400\n",
      "Epoch 20/100\n",
      " - 30s - loss: 1.4984 - acc: 0.6523\n",
      "Epoch 21/100\n",
      " - 30s - loss: 1.4438 - acc: 0.6609\n",
      "Epoch 22/100\n",
      " - 25s - loss: 1.3975 - acc: 0.6700\n",
      "Epoch 23/100\n",
      " - 26s - loss: 1.3470 - acc: 0.6767\n",
      "Epoch 24/100\n",
      " - 27s - loss: 1.3105 - acc: 0.6861\n",
      "Epoch 25/100\n",
      " - 27s - loss: 1.2601 - acc: 0.6958\n",
      "Epoch 26/100\n",
      " - 27s - loss: 1.2266 - acc: 0.6994\n",
      "Epoch 27/100\n",
      " - 28s - loss: 1.1897 - acc: 0.7083\n",
      "Epoch 28/100\n",
      " - 31s - loss: 1.1637 - acc: 0.7111\n",
      "Epoch 29/100\n",
      " - 30s - loss: 1.1299 - acc: 0.7163\n",
      "Epoch 30/100\n",
      " - 31s - loss: 1.1079 - acc: 0.7219\n",
      "Epoch 31/100\n",
      " - 30s - loss: 1.0821 - acc: 0.7267\n",
      "Epoch 32/100\n",
      " - 29s - loss: 1.0630 - acc: 0.7318\n",
      "Epoch 33/100\n",
      " - 30s - loss: 1.0361 - acc: 0.7362\n",
      "Epoch 34/100\n",
      " - 31s - loss: 1.0156 - acc: 0.7398\n",
      "Epoch 35/100\n",
      " - 32s - loss: 0.9923 - acc: 0.7426\n",
      "Epoch 36/100\n",
      " - 32s - loss: 0.9707 - acc: 0.7480\n",
      "Epoch 37/100\n",
      " - 33s - loss: 0.9552 - acc: 0.7510\n",
      "Epoch 38/100\n",
      " - 32s - loss: 0.9386 - acc: 0.7560\n",
      "Epoch 39/100\n",
      " - 28s - loss: 0.9242 - acc: 0.7594\n",
      "Epoch 40/100\n",
      " - 28s - loss: 0.8967 - acc: 0.7643\n",
      "Epoch 41/100\n",
      " - 29s - loss: 0.8898 - acc: 0.7653\n",
      "Epoch 42/100\n",
      " - 29s - loss: 0.8707 - acc: 0.7700\n",
      "Epoch 43/100\n",
      " - 32s - loss: 0.8628 - acc: 0.7710\n",
      "Epoch 44/100\n",
      " - 29s - loss: 0.8540 - acc: 0.7722\n",
      "Epoch 45/100\n",
      " - 28s - loss: 0.8442 - acc: 0.7736\n",
      "Epoch 46/100\n",
      " - 29s - loss: 0.8252 - acc: 0.7793\n",
      "Epoch 47/100\n",
      " - 28s - loss: 0.8210 - acc: 0.7788\n",
      "Epoch 48/100\n",
      " - 31s - loss: 0.8081 - acc: 0.7828\n",
      "Epoch 49/100\n",
      " - 29s - loss: 0.7958 - acc: 0.7823\n",
      "Epoch 50/100\n",
      " - 37s - loss: 0.7934 - acc: 0.7862\n",
      "Epoch 51/100\n",
      " - 35s - loss: 0.7801 - acc: 0.7881\n",
      "Epoch 52/100\n",
      " - 35s - loss: 0.7627 - acc: 0.7906\n",
      "Epoch 53/100\n",
      " - 31s - loss: 0.7662 - acc: 0.7910\n",
      "Epoch 54/100\n",
      " - 30s - loss: 0.7484 - acc: 0.7962\n",
      "Epoch 55/100\n",
      " - 29s - loss: 0.7433 - acc: 0.7975\n",
      "Epoch 56/100\n",
      " - 29s - loss: 0.7363 - acc: 0.7973\n",
      "Epoch 57/100\n",
      " - 28s - loss: 0.7357 - acc: 0.7985\n",
      "Epoch 58/100\n",
      " - 28s - loss: 0.7278 - acc: 0.7977\n",
      "Epoch 59/100\n",
      " - 29s - loss: 0.7156 - acc: 0.8019\n",
      "Epoch 60/100\n",
      " - 34s - loss: 0.7063 - acc: 0.8036\n",
      "Epoch 61/100\n",
      " - 35s - loss: 0.7073 - acc: 0.8046\n",
      "Epoch 62/100\n",
      " - 35s - loss: 0.6965 - acc: 0.8076\n",
      "Epoch 63/100\n",
      " - 35s - loss: 0.6883 - acc: 0.8084\n",
      "Epoch 64/100\n",
      " - 35s - loss: 0.6825 - acc: 0.8098\n",
      "Epoch 65/100\n",
      " - 36s - loss: 0.6797 - acc: 0.8086\n",
      "Epoch 66/100\n",
      " - 35s - loss: 0.6697 - acc: 0.8147\n",
      "Epoch 67/100\n",
      " - 35s - loss: 0.6693 - acc: 0.8126\n",
      "Epoch 68/100\n",
      " - 35s - loss: 0.6691 - acc: 0.8122\n",
      "Epoch 69/100\n",
      " - 35s - loss: 0.6624 - acc: 0.8150\n",
      "Epoch 70/100\n",
      " - 29s - loss: 0.6520 - acc: 0.8164\n",
      "Epoch 71/100\n",
      " - 29s - loss: 0.6516 - acc: 0.8154\n",
      "Epoch 72/100\n",
      " - 29s - loss: 0.6476 - acc: 0.8182\n",
      "Epoch 73/100\n",
      " - 29s - loss: 0.6465 - acc: 0.8171\n",
      "Epoch 74/100\n",
      " - 29s - loss: 0.6384 - acc: 0.8195\n",
      "Epoch 75/100\n",
      " - 30s - loss: 0.6260 - acc: 0.8217\n",
      "Epoch 76/100\n",
      " - 32s - loss: 0.6207 - acc: 0.8245\n",
      "Epoch 77/100\n",
      " - 36s - loss: 0.6203 - acc: 0.8242\n",
      "Epoch 78/100\n",
      " - 36s - loss: 0.6125 - acc: 0.8270\n",
      "Epoch 79/100\n",
      " - 35s - loss: 0.6144 - acc: 0.8262\n",
      "Epoch 80/100\n",
      " - 35s - loss: 0.6100 - acc: 0.8272\n",
      "Epoch 81/100\n",
      " - 35s - loss: 0.6135 - acc: 0.8264\n",
      "Epoch 82/100\n",
      " - 34s - loss: 0.6070 - acc: 0.8259\n",
      "Epoch 83/100\n",
      " - 35s - loss: 0.6015 - acc: 0.8284\n",
      "Epoch 84/100\n",
      " - 32s - loss: 0.6027 - acc: 0.8292\n",
      "Epoch 85/100\n",
      " - 29s - loss: 0.5904 - acc: 0.8316\n",
      "Epoch 86/100\n",
      " - 28s - loss: 0.5921 - acc: 0.8312\n",
      "Epoch 87/100\n",
      " - 28s - loss: 0.5903 - acc: 0.8320\n",
      "Epoch 88/100\n",
      " - 28s - loss: 0.5827 - acc: 0.8320\n",
      "Epoch 89/100\n",
      " - 28s - loss: 0.5853 - acc: 0.8310\n",
      "Epoch 90/100\n",
      " - 28s - loss: 0.5734 - acc: 0.8357\n",
      "Epoch 91/100\n",
      " - 28s - loss: 0.5776 - acc: 0.8332\n",
      "Epoch 92/100\n",
      " - 28s - loss: 0.5729 - acc: 0.8357\n",
      "Epoch 93/100\n",
      " - 28s - loss: 0.5720 - acc: 0.8353\n",
      "Epoch 94/100\n",
      " - 28s - loss: 0.5624 - acc: 0.8392\n",
      "Epoch 95/100\n",
      " - 28s - loss: 0.5710 - acc: 0.8361\n",
      "Epoch 96/100\n",
      " - 28s - loss: 0.5621 - acc: 0.8392\n",
      "Epoch 97/100\n",
      " - 29s - loss: 0.5506 - acc: 0.8417\n",
      "Epoch 98/100\n",
      " - 28s - loss: 0.5560 - acc: 0.8393\n",
      "Epoch 99/100\n",
      " - 28s - loss: 0.5570 - acc: 0.8387\n",
      "Epoch 100/100\n",
      " - 28s - loss: 0.5487 - acc: 0.8411\n"
     ]
    },
    {
     "data": {
      "text/plain": [
       "<keras.callbacks.callbacks.History at 0x7f4d28212f10>"
      ]
     },
     "execution_count": 62,
     "metadata": {},
     "output_type": "execute_result"
    }
   ],
   "source": [
    "\n",
    "model.fit(X, Y, epochs=100, verbose=2)\n"
   ]
  },
  {
   "cell_type": "code",
   "execution_count": 63,
   "metadata": {},
   "outputs": [],
   "source": [
    "def encode_input(input_string):\n",
    "    return input_string.split(\" \")"
   ]
  },
  {
   "cell_type": "code",
   "execution_count": 82,
   "metadata": {},
   "outputs": [],
   "source": [
    "def spell_checking(sentence):\n",
    "    encode_sentence = encode_input(sentence)\n",
    "    X, y = generate_training_data(encode_sentence, word_to_id, 3)\n",
    "    error_words = []\n",
    "    for i in range(len(X)):\n",
    "        word = encode_sentence[i]\n",
    "        word_index = word_to_id[word]\n",
    "        yhat = model.predict_proba(np.array([X[i]]))\n",
    "        if yhat[:,word_index] < 0.1:\n",
    "            error_words.append(encode_sentence[i])\n",
    "        print(\"input:\",np.array([X[i]]))\n",
    "        print(\"index:\",i)\n",
    "        print(\"probability of ---- \", encode_sentence[i], \"----given surrouding is:\" ,yhat[:,word_index])\n",
    "        print(\"__________________________________________________________________________\")\n",
    "    return error_words"
   ]
  },
  {
   "cell_type": "code",
   "execution_count": 89,
   "metadata": {
    "scrolled": false
   },
   "outputs": [
    {
     "name": "stdout",
     "output_type": "stream",
     "text": [
      "input: [[   0    0    0 4587 1611 1047]]\n",
      "index: 0\n",
      "probability of ----  chiến ----given surrouding is: [0.98789483]\n",
      "__________________________________________________________________________\n",
      "input: [[   0    0   50 1611 1047    0]]\n",
      "index: 1\n",
      "probability of ----  tranh ----given surrouding is: [0.7466447]\n",
      "__________________________________________________________________________\n",
      "input: [[   0   50 4587 1047    0    0]]\n",
      "index: 2\n",
      "probability of ----  thế ----given surrouding is: [0.6067198]\n",
      "__________________________________________________________________________\n",
      "input: [[  50 4587 1611    0    0    0]]\n",
      "index: 3\n",
      "probability of ----  giới ----given surrouding is: [0.9147856]\n",
      "__________________________________________________________________________\n"
     ]
    },
    {
     "data": {
      "text/plain": [
       "[]"
      ]
     },
     "execution_count": 89,
     "metadata": {},
     "output_type": "execute_result"
    }
   ],
   "source": [
    "spell_checking(\"chiến tranh thế giới\")"
   ]
  },
  {
   "cell_type": "code",
   "execution_count": null,
   "metadata": {},
   "outputs": [],
   "source": [
    "temp = np.array([[ 0,  0,  3, 20, 90, 44]])\n",
    "yhat = model.predict_proba(temp, verbose = 0)\n",
    "yhat2 = model.predict_classes(temp)\n",
    "print(yhat)\n",
    "print(yhat2)"
   ]
  },
  {
   "cell_type": "code",
   "execution_count": null,
   "metadata": {},
   "outputs": [],
   "source": [
    "print(np.max(yhat))\n",
    "result = np.where(yhat[0,:] == 0.3688755)\n",
    "print(result)\n",
    "print(yhat[:,72])\n",
    "print(id_to_word[72])"
   ]
  },
  {
   "cell_type": "code",
   "execution_count": null,
   "metadata": {},
   "outputs": [],
   "source": [
    "def generate_input(left, right):\n",
    "    result = []\n",
    "    for i in left:\n",
    "        result.append(word_to_id[i])\n",
    "    if len(left) < 3:\n",
    "        result.insert(0,0)\n",
    "    for i in right:\n",
    "        result.append(word_to_id[i])\n",
    "    if len(right) < 3:\n",
    "        result.append(0)\n",
    "    return np.array([result])"
   ]
  },
  {
   "cell_type": "code",
   "execution_count": null,
   "metadata": {},
   "outputs": [],
   "source": []
  }
 ],
 "metadata": {
  "kernelspec": {
   "display_name": "Python 3",
   "language": "python",
   "name": "python3"
  },
  "language_info": {
   "codemirror_mode": {
    "name": "ipython",
    "version": 3
   },
   "file_extension": ".py",
   "mimetype": "text/x-python",
   "name": "python",
   "nbconvert_exporter": "python",
   "pygments_lexer": "ipython3",
   "version": "3.7.4"
  }
 },
 "nbformat": 4,
 "nbformat_minor": 2
}
