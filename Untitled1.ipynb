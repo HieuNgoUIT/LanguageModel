{
 "cells": [
  {
   "cell_type": "code",
   "execution_count": 19,
   "metadata": {},
   "outputs": [],
   "source": [
    "from nltk.corpus import reuters\n",
    "from nltk import bigrams, trigrams\n",
    "from collections import Counter, defaultdict\n",
    "\n",
    "# Create a placeholder for model\n",
    "model = defaultdict(lambda: defaultdict(lambda: 0))"
   ]
  },
  {
   "cell_type": "code",
   "execution_count": 20,
   "metadata": {},
   "outputs": [],
   "source": [
    "# Count frequency of co-occurance  \n",
    "for sentence in reuters.sents():\n",
    "        # print(\"________________\")\n",
    "        # print(sentence)\n",
    "    for w1, w2, w3 in trigrams(sentence, pad_right=True, pad_left=True):\n",
    "        model[(w1, w2)][w3] += 1"
   ]
  },
  {
   "cell_type": "code",
   "execution_count": 22,
   "metadata": {},
   "outputs": [],
   "source": [
    "# Let's transform the counts to probabilities\n",
    "for w1_w2 in model:\n",
    "\ttotal_count = float(sum(model[w1_w2].values()))\n",
    "\tfor w3 in model[w1_w2]:\n",
    "\t\tmodel[w1_w2][w3] /= total_count"
   ]
  },
  {
   "cell_type": "code",
   "execution_count": 24,
   "metadata": {},
   "outputs": [
    {
     "name": "stdout",
     "output_type": "stream",
     "text": [
      "0.16666666666666663\n",
      "0.05555555555555554\n"
     ]
    }
   ],
   "source": [
    "print(model[\"today\", \"the\"][\"company\"])\n",
    "print(model[\"today\", \"the\"][\"pound\"])"
   ]
  },
  {
   "cell_type": "code",
   "execution_count": 18,
   "metadata": {},
   "outputs": [],
   "source": [
    "def geometric_mean(sentences, model):\n",
    "    words = sentences.split(\" \")\n",
    "    w1_w2 = words[0], words[1]\n",
    "    w2_w4 = words[1], words[3]\n",
    "    w4_w5 = words[3], words[4]\n",
    "    target = words[2]\n",
    "    P1 = model[w1_w2][target]\n",
    "    P2 = model[w2_w4][target]\n",
    "    P3 = model[w4_w5][target]\n",
    "    return (P1 * P2 * P3) ** (1. / 3) "
   ]
  },
  {
   "cell_type": "code",
   "execution_count": 16,
   "metadata": {},
   "outputs": [
    {
     "name": "stdout",
     "output_type": "stream",
     "text": [
      "0.16666666666666663\n",
      "0\n",
      "0\n",
      "0.0\n"
     ]
    }
   ],
   "source": [
    "print(geometric_mean(\"today the company 's stock'\", model))"
   ]
  },
  {
   "cell_type": "code",
   "execution_count": 17,
   "metadata": {},
   "outputs": [
    {
     "name": "stdout",
     "output_type": "stream",
     "text": [
      "0.16666666666666663\n",
      "0\n",
      "0\n"
     ]
    }
   ],
   "source": [
    "print(model[\"today\", \"the\"][\"company\"])\n",
    "print(model[\"the\", \"'s\"][\"company\"])\n",
    "print(model[\"'s\", \"stock\"][\"company\"])"
   ]
  },
  {
   "cell_type": "code",
   "execution_count": null,
   "metadata": {},
   "outputs": [],
   "source": []
  }
 ],
 "metadata": {
  "kernelspec": {
   "display_name": "Python 3",
   "language": "python",
   "name": "python3"
  },
  "language_info": {
   "codemirror_mode": {
    "name": "ipython",
    "version": 3
   },
   "file_extension": ".py",
   "mimetype": "text/x-python",
   "name": "python",
   "nbconvert_exporter": "python",
   "pygments_lexer": "ipython3",
   "version": "3.7.4"
  }
 },
 "nbformat": 4,
 "nbformat_minor": 2
}
