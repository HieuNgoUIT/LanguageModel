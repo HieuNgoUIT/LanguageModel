{
 "cells": [
  {
   "cell_type": "code",
   "execution_count": 1,
   "metadata": {},
   "outputs": [
    {
     "name": "stderr",
     "output_type": "stream",
     "text": [
      "Using TensorFlow backend.\n"
     ]
    }
   ],
   "source": [
    "import os\n",
    "from sys import getsizeof\n",
    "import re\n",
    "import json\n",
    "from keras.utils import to_categorical\n",
    "import numpy as np\n",
    "from keras.models import Sequential\n",
    "from keras.layers import  Dense, GRU, Embedding"
   ]
  },
  {
   "cell_type": "code",
   "execution_count": 2,
   "metadata": {},
   "outputs": [
    {
     "name": "stdout",
     "output_type": "stream",
     "text": [
      "Loading data from ./mysmalltest/\n",
      "Done loading data of 637446 bytes\n"
     ]
    }
   ],
   "source": [
    "root = \"./mysmalltest/\"\n",
    "print(\"Loading data from\", root)\n",
    "entries = os.listdir(root)\n",
    "data = \"\"\n",
    "for entry in entries:\n",
    "    path = root + entry\n",
    "    try:\n",
    "        with open(path) as f:\n",
    "            currentdata = f.read()\n",
    "        data = data +  currentdata\n",
    "    except:\n",
    "        print(\"This\", path, \"is not working\") \n",
    "print(\"Done loading data of\", getsizeof(data), \"bytes\")"
   ]
  },
  {
   "cell_type": "code",
   "execution_count": 3,
   "metadata": {},
   "outputs": [
    {
     "name": "stdout",
     "output_type": "stream",
     "text": [
      "50858\n"
     ]
    }
   ],
   "source": [
    "from pyvi import ViTokenizer\n",
    "import string\n",
    "def replace(chuoi):\n",
    "    return chuoi.replace(\"_\", \" \")\n",
    "data = data.translate(str.maketrans('', '', string.punctuation))\n",
    "tokens = ViTokenizer.tokenize(data).lower().split()\n",
    "tokens = list(map(replace, tokens))\n",
    "print(len(tokens))"
   ]
  },
  {
   "cell_type": "code",
   "execution_count": 4,
   "metadata": {},
   "outputs": [
    {
     "name": "stdout",
     "output_type": "stream",
     "text": [
      "42509\n"
     ]
    }
   ],
   "source": [
    "from collections import Counter \n",
    "  \n",
    "def removeElements(lst, k): \n",
    "    counted = Counter(lst) \n",
    "    return [el for el in lst if counted[el] > k] \n",
    "      \n",
    "training_tokens = removeElements(tokens, 3)\n",
    "print(len(training_tokens))"
   ]
  },
  {
   "cell_type": "code",
   "execution_count": 5,
   "metadata": {},
   "outputs": [
    {
     "name": "stdout",
     "output_type": "stream",
     "text": [
      "token length 42510\n",
      "vocab length 1851\n"
     ]
    }
   ],
   "source": [
    "def mapping(tokens):\n",
    "    word_to_id = dict()\n",
    "    id_to_word = dict()\n",
    "    for i,word in enumerate(set(tokens)):\n",
    "        word_to_id[word] = i\n",
    "        id_to_word[i] = word\n",
    "    return word_to_id, id_to_word\n",
    "tokens_zero = \"<empty>\"\n",
    "if tokens_zero not in training_tokens:\n",
    "    training_tokens.insert(0,tokens_zero)\n",
    "vocab = set(training_tokens)\n",
    "vocab_size = len(vocab)\n",
    "print(\"token length\",len(training_tokens))\n",
    "print(\"vocab length\",vocab_size)"
   ]
  },
  {
   "cell_type": "code",
   "execution_count": 6,
   "metadata": {},
   "outputs": [],
   "source": [
    "# def tokenize(text):\n",
    "#     # obtains tokens with a least 1 alphabet\n",
    "#     pattern = re.compile(r'[A-Za-z]+[\\w^\\']*|[\\w^\\']*[A-Za-z]+[\\w^\\']*')\n",
    "#     return pattern.findall(text.lower())\n",
    "# def mapping(tokens):\n",
    "#     word_to_id = dict()\n",
    "#     id_to_word = dict()\n",
    "#     for i,word in enumerate(set(tokens)):\n",
    "#         word_to_id[word] = i\n",
    "#         id_to_word[i] = word\n",
    "#     return word_to_id, id_to_word"
   ]
  },
  {
   "cell_type": "code",
   "execution_count": 7,
   "metadata": {},
   "outputs": [],
   "source": [
    "# print(\"Tokenizing corpus\")\n",
    "# tokenszero = [\"\"]\n",
    "# tokens = tokenize(data)\n",
    "# tokens = tokenszero + tokens\n",
    "# vocab = set(tokens)\n",
    "# vocab_size = len(vocab)\n",
    "# print(\"token length\",len(tokens))\n",
    "# print(\"vocab length\",vocab_size)"
   ]
  },
  {
   "cell_type": "code",
   "execution_count": 8,
   "metadata": {},
   "outputs": [
    {
     "name": "stdout",
     "output_type": "stream",
     "text": [
      "Mapping to create vocabulary\n"
     ]
    }
   ],
   "source": [
    "print(\"Mapping to create vocabulary\")\n",
    "word_to_id, id_to_word = mapping(training_tokens)"
   ]
  },
  {
   "cell_type": "code",
   "execution_count": 9,
   "metadata": {},
   "outputs": [
    {
     "name": "stdout",
     "output_type": "stream",
     "text": [
      "empty index: 1697\n"
     ]
    }
   ],
   "source": []
  },
  {
   "cell_type": "code",
   "execution_count": 10,
   "metadata": {},
   "outputs": [
    {
     "name": "stdout",
     "output_type": "stream",
     "text": [
      "Export word_to_id and id_to_word file\n"
     ]
    }
   ],
   "source": [
    "print(\"Export word_to_id and id_to_word file\")\n",
    "with open('word_to_id.json', 'w') as f:\n",
    "    json.dump(word_to_id, f, ensure_ascii=False)"
   ]
  },
  {
   "cell_type": "code",
   "execution_count": 11,
   "metadata": {},
   "outputs": [],
   "source": [
    "with open('id_to_word.json', 'w') as f:\n",
    "    json.dump(id_to_word, f, ensure_ascii=False)"
   ]
  },
  {
   "cell_type": "code",
   "execution_count": 12,
   "metadata": {},
   "outputs": [],
   "source": [
    "def generate_training_data(sentence, word_to_id, window_size):\n",
    "    L = len(sentence)\n",
    "    X, Y = [], []\n",
    "    tempX= []\n",
    "    for i in range(L):\n",
    "        index_before_target = list(range(max(0, i - window_size), i))           \n",
    "        index_after_target = list(range(i + 1, min(i + window_size + 1,L)))           \n",
    "        index_before_after_target = index_before_target + index_after_target\n",
    "        #print(index_before_after_target)                     \n",
    "        for j in index_before_after_target:\n",
    "            tempX.append(word_to_id[sentence[j]])\n",
    "        #print(tempX)\n",
    "        filling_missing_left = len(index_before_target)\n",
    "        filling_missing_right = len(index_after_target)\n",
    "        while(filling_missing_left < 3):\n",
    "            tempX.insert(0, word_to_id['<empty>'])\n",
    "            filling_missing_left +=1\n",
    "        while(filling_missing_right < 3):\n",
    "            tempX.append(word_to_id['<empty>'])\n",
    "            filling_missing_right +=1\n",
    "        X.append(tempX)\n",
    "        Y.append(word_to_id[sentence[i]])\n",
    "        tempX = []\n",
    "    return np.array(X),Y"
   ]
  },
  {
   "cell_type": "code",
   "execution_count": 13,
   "metadata": {},
   "outputs": [
    {
     "name": "stdout",
     "output_type": "stream",
     "text": [
      "Generating training data from corpus\n",
      "length X: 42510\n",
      "length Y: 42510\n",
      "<class 'numpy.ndarray'>\n",
      "(42510, 6)\n",
      "[[1697 1697 1697 1478 1146  400]\n",
      " [1697 1697 1697 1146  400 1176]\n",
      " [1697 1697 1478  400 1176  119]\n",
      " [1697 1478 1146 1176  119 1367]\n",
      " [1478 1146  400  119 1367 1358]]\n"
     ]
    }
   ],
   "source": [
    "print(\"Generating training data from corpus\")\n",
    "X,Y = generate_training_data(training_tokens, word_to_id, 3)\n",
    "print(\"length X:\",len(X))\n",
    "print(\"length Y:\",len(Y))\n",
    "print(type(X))\n",
    "print(X.shape)\n",
    "print(X[:5,:])"
   ]
  },
  {
   "cell_type": "code",
   "execution_count": 14,
   "metadata": {},
   "outputs": [
    {
     "name": "stdout",
     "output_type": "stream",
     "text": [
      "(42510, 1851)\n"
     ]
    }
   ],
   "source": [
    "Y = to_categorical(Y, num_classes=vocab_size)\n",
    "print(Y.shape)"
   ]
  },
  {
   "cell_type": "code",
   "execution_count": 15,
   "metadata": {},
   "outputs": [],
   "source": [
    "def handle_key_range(values):\n",
    "    l = len(values)\n",
    "    char_key = l - 100\n",
    "    word = ''\n",
    "    for i in range(char_key):\n",
    "        word += \" \"+ values[i]\n",
    "    coefs = np.asarray(values[char_key:], dtype='float32')\n",
    "    return word.strip(), coefs"
   ]
  },
  {
   "cell_type": "code",
   "execution_count": 16,
   "metadata": {},
   "outputs": [
    {
     "name": "stdout",
     "output_type": "stream",
     "text": [
      "Loading word2vec\n",
      "Loaded 10 word vectors.\n"
     ]
    }
   ],
   "source": [
    "print(\"Loading word2vec\")\n",
    "embeddings_index = dict()\n",
    "count = 0\n",
    "with open('/media/hieu/CA48F77D48F7669B/SpellChecking/model.txt',\"r\", encoding='utf-8') as f:\n",
    "    f.readline() #skip first row  \n",
    "    while True:\n",
    "        try:\n",
    "            line = next(f)\n",
    "            values = line.split()\n",
    "            word, coefs = handle_key_range(values)\n",
    "            embeddings_index[word] = coefs\n",
    "            count += 1\n",
    "            if count == 10:\n",
    "                break\n",
    "        except:\n",
    "            print(\"Line is broken\")\n",
    "print('Loaded %s word vectors.' % len(embeddings_index))\n"
   ]
  },
  {
   "cell_type": "code",
   "execution_count": 17,
   "metadata": {},
   "outputs": [
    {
     "name": "stdout",
     "output_type": "stream",
     "text": [
      "Create a weight matrix for words in trainning docs\n"
     ]
    }
   ],
   "source": [
    "print(\"Create a weight matrix for words in trainning docs\")\n",
    "embedding_matrix = np.zeros((vocab_size, 100))\n",
    "for word, i in word_to_id.items():\n",
    "    #print(word, i)\n",
    "    embedding_vector = embeddings_index.get(word)\n",
    "    if embedding_vector is not None:\n",
    "        try:\n",
    "            embedding_matrix[i] = embedding_vector\n",
    "        except:\n",
    "            embedding_matrix[i] = np.zeros(100)"
   ]
  },
  {
   "cell_type": "code",
   "execution_count": 18,
   "metadata": {},
   "outputs": [
    {
     "name": "stdout",
     "output_type": "stream",
     "text": [
      "WARNING:tensorflow:From /home/hieu/anaconda3/lib/python3.7/site-packages/tensorflow/python/ops/resource_variable_ops.py:435: colocate_with (from tensorflow.python.framework.ops) is deprecated and will be removed in a future version.\n",
      "Instructions for updating:\n",
      "Colocations handled automatically by placer.\n",
      "Model: \"sequential_1\"\n",
      "_________________________________________________________________\n",
      "Layer (type)                 Output Shape              Param #   \n",
      "=================================================================\n",
      "embedding_1 (Embedding)      (None, 6, 100)            185100    \n",
      "_________________________________________________________________\n",
      "gru_1 (GRU)                  (None, 150)               112950    \n",
      "_________________________________________________________________\n",
      "dense_1 (Dense)              (None, 1851)              279501    \n",
      "=================================================================\n",
      "Total params: 577,551\n",
      "Trainable params: 392,451\n",
      "Non-trainable params: 185,100\n",
      "_________________________________________________________________\n",
      "None\n"
     ]
    }
   ],
   "source": [
    "\n",
    "model = Sequential()\n",
    "model.add(Embedding(vocab_size, 100, input_length=6, weights=[embedding_matrix], trainable=False))\n",
    "model.add(GRU(150, recurrent_dropout=0.1, dropout=0.1))\n",
    "model.add(Dense(vocab_size, activation='softmax'))\n",
    "model.compile(loss='categorical_crossentropy', metrics=['acc'], optimizer='adam')\n",
    "print(model.summary())"
   ]
  },
  {
   "cell_type": "code",
   "execution_count": 19,
   "metadata": {
    "scrolled": false
   },
   "outputs": [
    {
     "name": "stdout",
     "output_type": "stream",
     "text": [
      "WARNING:tensorflow:From /home/hieu/anaconda3/lib/python3.7/site-packages/tensorflow/python/ops/math_ops.py:3066: to_int32 (from tensorflow.python.ops.math_ops) is deprecated and will be removed in a future version.\n",
      "Instructions for updating:\n",
      "Use tf.cast instead.\n",
      "Epoch 1/1\n",
      " - 12s - loss: 6.5037 - acc: 0.0326\n",
      "Saved model to disk\n"
     ]
    }
   ],
   "source": [
    "model.fit(X, Y, epochs=1, verbose=2)\n",
    "model.save(\"testing.h5\")\n",
    "print(\"Saved model to disk\")"
   ]
  },
  {
   "cell_type": "code",
   "execution_count": 20,
   "metadata": {},
   "outputs": [],
   "source": [
    "def encode_input(input_string):\n",
    "    return input_string.split(\" \")"
   ]
  },
  {
   "cell_type": "code",
   "execution_count": 21,
   "metadata": {},
   "outputs": [],
   "source": [
    "def spell_checking(sentence):\n",
    "    encode_sentence = encode_input(sentence)\n",
    "    X, y = generate_training_data(encode_sentence, word_to_id, 3)\n",
    "    error_words = []\n",
    "    for i in range(len(X)):\n",
    "        word = encode_sentence[i]\n",
    "        word_index = word_to_id[word]\n",
    "        yhat = model.predict_proba(np.array([X[i]]))\n",
    "        if yhat[:,word_index] < 0.1:\n",
    "            error_words.append(encode_sentence[i])\n",
    "        print(\"input:\",np.array([X[i]]))\n",
    "        print(\"index:\",i)\n",
    "        print(\"probability of ---- \", encode_sentence[i], \"----given surrouding is:\" ,yhat[:,word_index])\n",
    "        print(\"__________________________________________________________________________\")\n",
    "    return error_words"
   ]
  },
  {
   "cell_type": "code",
   "execution_count": 43,
   "metadata": {
    "scrolled": false
   },
   "outputs": [
    {
     "name": "stdout",
     "output_type": "stream",
     "text": [
      "empty index: 1697\n",
      "input: [[1697 1697 1697 1697 1697 1697]]\n",
      "index: 0\n",
      "probability of ----  xin ----given surrouding is: [0.00024419]\n",
      "__________________________________________________________________________\n"
     ]
    },
    {
     "data": {
      "text/plain": [
       "['xin']"
      ]
     },
     "execution_count": 43,
     "metadata": {},
     "output_type": "execute_result"
    }
   ],
   "source": [
    "print(\"empty index:\",word_to_id['<empty>'])\n",
    "spell_checking(\"xin\")"
   ]
  },
  {
   "cell_type": "code",
   "execution_count": 42,
   "metadata": {},
   "outputs": [
    {
     "ename": "KeyError",
     "evalue": "'xinh'",
     "output_type": "error",
     "traceback": [
      "\u001b[0;31m---------------------------------------------------------------------------\u001b[0m",
      "\u001b[0;31mKeyError\u001b[0m                                  Traceback (most recent call last)",
      "\u001b[0;32m<ipython-input-42-e07c8c17bb34>\u001b[0m in \u001b[0;36m<module>\u001b[0;34m\u001b[0m\n\u001b[0;32m----> 1\u001b[0;31m \u001b[0mspell_checking\u001b[0m\u001b[0;34m(\u001b[0m\u001b[0;34m\"xinh\"\u001b[0m\u001b[0;34m)\u001b[0m\u001b[0;34m\u001b[0m\u001b[0;34m\u001b[0m\u001b[0m\n\u001b[0m",
      "\u001b[0;32m<ipython-input-21-b617145e3d25>\u001b[0m in \u001b[0;36mspell_checking\u001b[0;34m(sentence)\u001b[0m\n\u001b[1;32m      1\u001b[0m \u001b[0;32mdef\u001b[0m \u001b[0mspell_checking\u001b[0m\u001b[0;34m(\u001b[0m\u001b[0msentence\u001b[0m\u001b[0;34m)\u001b[0m\u001b[0;34m:\u001b[0m\u001b[0;34m\u001b[0m\u001b[0;34m\u001b[0m\u001b[0m\n\u001b[1;32m      2\u001b[0m     \u001b[0mencode_sentence\u001b[0m \u001b[0;34m=\u001b[0m \u001b[0mencode_input\u001b[0m\u001b[0;34m(\u001b[0m\u001b[0msentence\u001b[0m\u001b[0;34m)\u001b[0m\u001b[0;34m\u001b[0m\u001b[0;34m\u001b[0m\u001b[0m\n\u001b[0;32m----> 3\u001b[0;31m     \u001b[0mX\u001b[0m\u001b[0;34m,\u001b[0m \u001b[0my\u001b[0m \u001b[0;34m=\u001b[0m \u001b[0mgenerate_training_data\u001b[0m\u001b[0;34m(\u001b[0m\u001b[0mencode_sentence\u001b[0m\u001b[0;34m,\u001b[0m \u001b[0mword_to_id\u001b[0m\u001b[0;34m,\u001b[0m \u001b[0;36m3\u001b[0m\u001b[0;34m)\u001b[0m\u001b[0;34m\u001b[0m\u001b[0;34m\u001b[0m\u001b[0m\n\u001b[0m\u001b[1;32m      4\u001b[0m     \u001b[0merror_words\u001b[0m \u001b[0;34m=\u001b[0m \u001b[0;34m[\u001b[0m\u001b[0;34m]\u001b[0m\u001b[0;34m\u001b[0m\u001b[0;34m\u001b[0m\u001b[0m\n\u001b[1;32m      5\u001b[0m     \u001b[0;32mfor\u001b[0m \u001b[0mi\u001b[0m \u001b[0;32min\u001b[0m \u001b[0mrange\u001b[0m\u001b[0;34m(\u001b[0m\u001b[0mlen\u001b[0m\u001b[0;34m(\u001b[0m\u001b[0mX\u001b[0m\u001b[0;34m)\u001b[0m\u001b[0;34m)\u001b[0m\u001b[0;34m:\u001b[0m\u001b[0;34m\u001b[0m\u001b[0;34m\u001b[0m\u001b[0m\n",
      "\u001b[0;32m<ipython-input-12-eb7be8b6a6ee>\u001b[0m in \u001b[0;36mgenerate_training_data\u001b[0;34m(sentence, word_to_id, window_size)\u001b[0m\n\u001b[1;32m     20\u001b[0m             \u001b[0mfilling_missing_right\u001b[0m \u001b[0;34m+=\u001b[0m\u001b[0;36m1\u001b[0m\u001b[0;34m\u001b[0m\u001b[0;34m\u001b[0m\u001b[0m\n\u001b[1;32m     21\u001b[0m         \u001b[0mX\u001b[0m\u001b[0;34m.\u001b[0m\u001b[0mappend\u001b[0m\u001b[0;34m(\u001b[0m\u001b[0mtempX\u001b[0m\u001b[0;34m)\u001b[0m\u001b[0;34m\u001b[0m\u001b[0;34m\u001b[0m\u001b[0m\n\u001b[0;32m---> 22\u001b[0;31m         \u001b[0mY\u001b[0m\u001b[0;34m.\u001b[0m\u001b[0mappend\u001b[0m\u001b[0;34m(\u001b[0m\u001b[0mword_to_id\u001b[0m\u001b[0;34m[\u001b[0m\u001b[0msentence\u001b[0m\u001b[0;34m[\u001b[0m\u001b[0mi\u001b[0m\u001b[0;34m]\u001b[0m\u001b[0;34m]\u001b[0m\u001b[0;34m)\u001b[0m\u001b[0;34m\u001b[0m\u001b[0;34m\u001b[0m\u001b[0m\n\u001b[0m\u001b[1;32m     23\u001b[0m         \u001b[0mtempX\u001b[0m \u001b[0;34m=\u001b[0m \u001b[0;34m[\u001b[0m\u001b[0;34m]\u001b[0m\u001b[0;34m\u001b[0m\u001b[0;34m\u001b[0m\u001b[0m\n\u001b[1;32m     24\u001b[0m     \u001b[0;32mreturn\u001b[0m \u001b[0mnp\u001b[0m\u001b[0;34m.\u001b[0m\u001b[0marray\u001b[0m\u001b[0;34m(\u001b[0m\u001b[0mX\u001b[0m\u001b[0;34m)\u001b[0m\u001b[0;34m,\u001b[0m\u001b[0mY\u001b[0m\u001b[0;34m\u001b[0m\u001b[0;34m\u001b[0m\u001b[0m\n",
      "\u001b[0;31mKeyError\u001b[0m: 'xinh'"
     ]
    }
   ],
   "source": [
    "spell_checking(\"xinh\")"
   ]
  },
  {
   "cell_type": "code",
   "execution_count": 24,
   "metadata": {},
   "outputs": [],
   "source": [
    "# def generate_training_data(document, window_size):\n",
    "#     L = len(document)\n",
    "#     docs, tempX, label = [], [], []\n",
    "#     for i in range(L):\n",
    "#         index_before_target = list(range(max(0, i - window_size), i))           \n",
    "#         index_after_target = list(range(i + 1, min(i + window_size + 1,L)))           \n",
    "#         index_before_after_target = index_before_target + index_after_target\n",
    "#         for j in index_before_after_target:\n",
    "#             tempX.append(document[j])\n",
    "            \n",
    "#         filling_missing_left = len(index_before_target)\n",
    "#         filling_missing_right = len(index_after_target)\n",
    "#         while(filling_missing_left < 3):\n",
    "#             tempX.insert(0,\"\")\n",
    "#             filling_missing_left +=1\n",
    "#         while(filling_missing_right < 3):\n",
    "#             tempX.append(\"\")\n",
    "#             filling_missing_right +=1\n",
    "            \n",
    "#         docs.append(tempX)\n",
    "#         tempX = []\n",
    "#         label.append(document[i])\n",
    "#     return docs, label"
   ]
  },
  {
   "cell_type": "code",
   "execution_count": 25,
   "metadata": {},
   "outputs": [],
   "source": [
    "# tokens = tokenize(data)\n",
    "# vocab = set(tokens)\n",
    "# print(\"token length\",len(tokens))\n",
    "# print(\"vocab length\",len(vocab))"
   ]
  },
  {
   "cell_type": "code",
   "execution_count": 26,
   "metadata": {},
   "outputs": [],
   "source": [
    "# encoded_X = t.texts_to_sequences(docs)\n",
    "# encoded_Y = t.texts_to_sequences(label)\n",
    "                                 \n",
    "# print(len(encoded_X))\n",
    "# print(len(encoded_Y))\n",
    "# print(type(encoded_Y))"
   ]
  },
  {
   "cell_type": "code",
   "execution_count": 27,
   "metadata": {},
   "outputs": [],
   "source": [
    "# result = []\n",
    "# for i in label:\n",
    "#     #print(i)\n",
    "#     result.append(t.word_index.get(i))"
   ]
  },
  {
   "cell_type": "code",
   "execution_count": 28,
   "metadata": {},
   "outputs": [],
   "source": [
    "# result = []\n",
    "# for i in encoded_Y:\n",
    "#     result = result + i\n",
    "# print(result)\n"
   ]
  },
  {
   "cell_type": "code",
   "execution_count": 29,
   "metadata": {},
   "outputs": [],
   "source": [
    "# docs, label = generate_training_data(data.split(),3)\n",
    "# #print(docs)\n",
    "# from keras.preprocessing.text import Tokenizer\n",
    "# t = Tokenizer()\n",
    "# t.fit_on_texts(docs)\n",
    "# vocab_size = len(t.word_index) + 1\n",
    "# print(vocab_size)\n",
    "# print(len(docs))\n",
    "# print(len(label))\n",
    "# #print(label)"
   ]
  },
  {
   "cell_type": "code",
   "execution_count": 30,
   "metadata": {},
   "outputs": [],
   "source": [
    "# vocab_size = len(vocab)\n",
    "# Y = to_categorical(Y, num_classes=vocab_size)\n",
    "# print(Y.shape)"
   ]
  },
  {
   "cell_type": "code",
   "execution_count": null,
   "metadata": {},
   "outputs": [],
   "source": []
  }
 ],
 "metadata": {
  "kernelspec": {
   "display_name": "Python 3",
   "language": "python",
   "name": "python3"
  },
  "language_info": {
   "codemirror_mode": {
    "name": "ipython",
    "version": 3
   },
   "file_extension": ".py",
   "mimetype": "text/x-python",
   "name": "python",
   "nbconvert_exporter": "python",
   "pygments_lexer": "ipython3",
   "version": "3.7.4"
  }
 },
 "nbformat": 4,
 "nbformat_minor": 2
}
